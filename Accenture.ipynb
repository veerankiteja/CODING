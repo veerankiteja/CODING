{
  "nbformat": 4,
  "nbformat_minor": 0,
  "metadata": {
    "colab": {
      "provenance": [],
      "authorship_tag": "ABX9TyN/SggdRtH7NBiyP1XHszjk",
      "include_colab_link": true
    },
    "kernelspec": {
      "name": "python3",
      "display_name": "Python 3"
    },
    "language_info": {
      "name": "python"
    }
  },
  "cells": [
    {
      "cell_type": "markdown",
      "metadata": {
        "id": "view-in-github",
        "colab_type": "text"
      },
      "source": [
        "<a href=\"https://colab.research.google.com/github/veerankiteja/CODING/blob/main/Accenture.ipynb\" target=\"_parent\"><img src=\"https://colab.research.google.com/assets/colab-badge.svg\" alt=\"Open In Colab\"/></a>"
      ]
    },
    {
      "cell_type": "markdown",
      "source": [
        "def differenceofSum(n. m)\n",
        "\n",
        "The function accepts two integers n, m as arguments Find the sum of all numbers in range from 1 to m(both inclusive) that are not divisible by n. Return difference between sum of integers not divisible by n with sum of numbers divisible by n.\n",
        "\n",
        "Assumption:\n",
        "\n",
        "n>0 and m>0\n",
        "\n",
        "Sum lies between integral range\n",
        "\n",
        "Example\n",
        "\n",
        "Input\n",
        "\n",
        "n:4\n",
        "\n",
        "m:20\n",
        "\n",
        "Output 90\n",
        "\n",
        "Explanation\n",
        "\n",
        "Sum of numbers divisible by 4 are 4+8+12+16 + 20 = 60\n",
        "\n",
        "Sum of numbers not divisible by 4 are 1+2+3+5\n",
        "\n",
        "+6+7+9+10+11+13+14+15+17+18+19=\n",
        "\n",
        "150\n",
        "\n",
        "Difference 150-60 = 90\n",
        "\n",
        "Sample Input\n",
        "\n",
        "n:3\n",
        "\n",
        "m:10\n",
        "\n",
        "m:10\n",
        "\n",
        "Sample Output\n",
        "\n",
        "19"
      ],
      "metadata": {
        "id": "4R4lHhL-kp3X"
      }
    },
    {
      "cell_type": "code",
      "execution_count": null,
      "metadata": {
        "colab": {
          "base_uri": "https://localhost:8080/"
        },
        "id": "fGaEh3Bakn9E",
        "outputId": "eec79cb1-05b9-43ac-f4d6-cab62458fc6d"
      },
      "outputs": [
        {
          "output_type": "stream",
          "name": "stdout",
          "text": [
            "Enter the value of n: 3\n",
            "Enter the value of m: 10\n",
            "The difference of the sums is: 19\n"
          ]
        }
      ],
      "source": [
        "def difference_of_sum(n, m):\n",
        "    sum_divisible_by_n = 0\n",
        "    sum_not_divisible_by_n = 0\n",
        "\n",
        "    for i in range(1, m + 1):\n",
        "        if i % n == 0:\n",
        "            sum_divisible_by_n += i\n",
        "        else:\n",
        "            sum_not_divisible_by_n += i\n",
        "\n",
        "    result = sum_not_divisible_by_n - sum_divisible_by_n\n",
        "    return result\n",
        "n = int(input(\"Enter the value of n: \"))\n",
        "m = int(input(\"Enter the value of m: \"))\n",
        "result = difference_of_sum(n, m)\n",
        "print(\"The difference of the sums is:\", result)\n"
      ]
    },
    {
      "cell_type": "markdown",
      "source": [
        "REPLACE CHARACTER"
      ],
      "metadata": {
        "id": "EgGP1uwcqQkD"
      }
    },
    {
      "cell_type": "code",
      "source": [
        "def replacecharacter(str,ch1,ch2):\n",
        "  n = len(str)\n",
        "  if n == 0:\n",
        "     return \"null\"\n",
        "  temp = \" \"\n",
        "  str = str.replace(ch1,temp)\n",
        "  str = str.replace(ch2,ch1)\n",
        "  str = str.replace(temp,ch2)\n",
        "  return str\n",
        "str = input()\n",
        "ch1 = input()\n",
        "ch2 = input()\n",
        "print(replacecharacter(str,ch1,ch2))\n"
      ],
      "metadata": {
        "colab": {
          "base_uri": "https://localhost:8080/"
        },
        "id": "Fk1I-TvjqT11",
        "outputId": "ef5f6e3d-1f9d-46c2-9cbf-c845f5bda4f6"
      },
      "execution_count": null,
      "outputs": [
        {
          "output_type": "stream",
          "name": "stdout",
          "text": [
            "apple\n",
            "a\n",
            "p\n",
            "paale\n"
          ]
        }
      ]
    },
    {
      "cell_type": "markdown",
      "source": [
        "AUTOMORPHIC"
      ],
      "metadata": {
        "id": "j22Xjq5OyCUI"
      }
    },
    {
      "cell_type": "code",
      "source": [
        "n=int(input())\n",
        "m=n*n\n",
        "num=m%10\n",
        "if num==n:\n",
        "  print(\"Automorphic\")\n",
        "else:\n",
        "  print(\"Not Automorphic\")"
      ],
      "metadata": {
        "colab": {
          "base_uri": "https://localhost:8080/"
        },
        "id": "yPMfz44QyJim",
        "outputId": "fd378f2f-f5c7-4a67-fcc5-0e2f259ae41b"
      },
      "execution_count": null,
      "outputs": [
        {
          "output_type": "stream",
          "name": "stdout",
          "text": [
            "5\n",
            "Automorphic\n"
          ]
        }
      ]
    },
    {
      "cell_type": "markdown",
      "source": [
        "ABINDANT"
      ],
      "metadata": {
        "id": "FRElf1I4zfbz"
      }
    },
    {
      "cell_type": "code",
      "source": [
        "n=int(input())\n",
        "sum=0\n",
        "for i in range(1,n):\n",
        "  if n%i==0:\n",
        "    sum=sum+i\n",
        "if sum>n:\n",
        "  print(\"ABUNDANT\")\n",
        "elif sum<n:\n",
        "  print(\"NOT ABUNDANT\")"
      ],
      "metadata": {
        "colab": {
          "base_uri": "https://localhost:8080/"
        },
        "id": "EV4QbMuwziZF",
        "outputId": "22ecfc09-55c4-4ea6-d2a6-c4e79f51bd7a"
      },
      "execution_count": null,
      "outputs": [
        {
          "output_type": "stream",
          "name": "stdout",
          "text": [
            "12\n",
            "ABUNDANT\n"
          ]
        }
      ]
    },
    {
      "cell_type": "markdown",
      "source": [
        "HARSHAD NUMBER"
      ],
      "metadata": {
        "id": "C0GVaD9m1uUU"
      }
    },
    {
      "cell_type": "code",
      "source": [
        "n=int(input())\n",
        "sum=0\n",
        "temp=n\n",
        "while n>0:\n",
        "  r=n%10\n",
        "  sum=sum+r\n",
        "  n=n//10\n",
        "if temp%sum==0:\n",
        "  print(\"Harshad Number\")\n",
        "  print(sum)\n",
        "else:\n",
        "  print(\"Not Harshad Number\")"
      ],
      "metadata": {
        "colab": {
          "base_uri": "https://localhost:8080/"
        },
        "id": "xVA_cxLo1yZy",
        "outputId": "7b528c9a-b10c-4519-be33-f32fb91bd5a7"
      },
      "execution_count": null,
      "outputs": [
        {
          "output_type": "stream",
          "name": "stdout",
          "text": [
            "21\n",
            "Harshad Number\n",
            "3\n"
          ]
        }
      ]
    },
    {
      "cell_type": "markdown",
      "source": [
        "PERFACT NUMBER"
      ],
      "metadata": {
        "id": "4C-ys2644tX3"
      }
    },
    {
      "cell_type": "code",
      "source": [
        "n=int(input())\n",
        "sum=0\n",
        "for i in range(1,n):\n",
        "  if n%i==0:\n",
        "    sum=sum+i\n",
        "if sum==n:\n",
        "  print(\"perfact number\")\n",
        "elif sum!=n:\n",
        "  print(\"not perfact number\")"
      ],
      "metadata": {
        "colab": {
          "base_uri": "https://localhost:8080/"
        },
        "id": "gN06ZFaX4xFs",
        "outputId": "06023ec3-60f5-4e2c-b621-ba3c2f146511"
      },
      "execution_count": null,
      "outputs": [
        {
          "output_type": "stream",
          "name": "stdout",
          "text": [
            "6\n",
            "perfact number\n"
          ]
        }
      ]
    },
    {
      "cell_type": "markdown",
      "source": [
        "FRIENDLY PAIR"
      ],
      "metadata": {
        "id": "beoHnAj-6hsx"
      }
    },
    {
      "cell_type": "code",
      "source": [
        "n1=int(input())\n",
        "n2=int(input())\n",
        "sum1=0\n",
        "sum2=0\n",
        "for i in range(1,n1):\n",
        "  if n1%i==0:\n",
        "    sum1=sum1+i\n",
        "for j in range(1,n2):\n",
        "  if n2%j==0:\n",
        "    sum2=sum2+j\n",
        "if sum1==n2 and sum2==n1:\n",
        "  print(\"FRIENDLY PAIR\")\n",
        "else:\n",
        "  print(\"NOT FRIENDLY PAIR\")"
      ],
      "metadata": {
        "colab": {
          "base_uri": "https://localhost:8080/"
        },
        "id": "dxMSGCoe6k9L",
        "outputId": "6a5a3e62-6fec-4284-8918-ba2c74b3a44f"
      },
      "execution_count": null,
      "outputs": [
        {
          "output_type": "stream",
          "name": "stdout",
          "text": [
            "6\n",
            "6\n",
            "FRIENDLY PAIR\n"
          ]
        }
      ]
    },
    {
      "cell_type": "markdown",
      "source": [
        "PERFACT SQUARE"
      ],
      "metadata": {
        "id": "zYby6qPL9IUO"
      }
    },
    {
      "cell_type": "code",
      "source": [
        "import math\n",
        "n=int(input())\n",
        "root=math.sqrt(n)\n",
        "if int(root+0.5)**2==n:\n",
        "  print(\"perfect square\")\n",
        "else:\n",
        "  print(\"not perfect square\")\n"
      ],
      "metadata": {
        "colab": {
          "base_uri": "https://localhost:8080/"
        },
        "id": "0MODxmBC9Q_1",
        "outputId": "b26a4656-1251-4806-e9eb-881cb4c4eca5"
      },
      "execution_count": null,
      "outputs": [
        {
          "output_type": "stream",
          "name": "stdout",
          "text": [
            "25\n",
            "perfect square\n"
          ]
        }
      ]
    },
    {
      "cell_type": "markdown",
      "source": [
        "STRINGS"
      ],
      "metadata": {
        "id": "FYHYRgNC5EWz"
      }
    },
    {
      "cell_type": "markdown",
      "source": [
        "VOWEL"
      ],
      "metadata": {
        "id": "n834Ca9m5fHf"
      }
    },
    {
      "cell_type": "code",
      "source": [
        "c=input()\n",
        "if(c=='a' or c=='e' or c=='i' or c=='o' or c=='u' or c=='A' or c=='E' or c=='I' or c=='O' or c=='U'):\n",
        "  print(\"vowel\")\n",
        "else:\n",
        "  print(\"consenant\")"
      ],
      "metadata": {
        "colab": {
          "base_uri": "https://localhost:8080/"
        },
        "id": "FlSXmCqI5ln1",
        "outputId": "3614df47-5e05-44ed-a0e5-2bbfb853f474"
      },
      "execution_count": null,
      "outputs": [
        {
          "output_type": "stream",
          "name": "stdout",
          "text": [
            "a\n",
            "vowel\n"
          ]
        }
      ]
    },
    {
      "cell_type": "code",
      "source": [
        "a = input(\"Enter a string: \")\n",
        "v = 0\n",
        "c = 0\n",
        "for i in a:\n",
        "    if i in 'aeiouAEIOU':\n",
        "        v += 1\n",
        "    elif i.isalpha():\n",
        "        c += 1\n",
        "print(\"Vowels:\", v)\n",
        "print(\"Consonants:\", c)"
      ],
      "metadata": {
        "colab": {
          "base_uri": "https://localhost:8080/"
        },
        "id": "68hGhTbs9Ma1",
        "outputId": "e80c0b81-e823-4626-999b-388849264abf"
      },
      "execution_count": null,
      "outputs": [
        {
          "output_type": "stream",
          "name": "stdout",
          "text": [
            "Enter a string: Tejasri\n",
            "Vowels: 3\n",
            "Consonants: 4\n"
          ]
        }
      ]
    },
    {
      "cell_type": "markdown",
      "source": [
        "ALPHABET OR NOT"
      ],
      "metadata": {
        "id": "SE4ztEOa9jU-"
      }
    },
    {
      "cell_type": "code",
      "source": [
        "ch = input(\"Enter a character: \")\n",
        "\n",
        "if len(ch) != 1:\n",
        "    print(\"Please enter a single character.\")\n",
        "elif 'a' <= ch <= 'z' or 'A' <= ch <= 'Z':\n",
        "    print(\"alphabet\", ch)\n",
        "else:\n",
        "    print(\"not alphabet\", ch)\n"
      ],
      "metadata": {
        "colab": {
          "base_uri": "https://localhost:8080/"
        },
        "id": "VzyyKKuvEBJi",
        "outputId": "76061e97-6c67-4398-897b-3de87c6cae11"
      },
      "execution_count": null,
      "outputs": [
        {
          "output_type": "stream",
          "name": "stdout",
          "text": [
            "Enter a character: ad\n",
            "Please enter a single character.\n"
          ]
        }
      ]
    },
    {
      "cell_type": "markdown",
      "source": [
        "ASCII VALUE"
      ],
      "metadata": {
        "id": "vhkoisasAHKm"
      }
    },
    {
      "cell_type": "code",
      "source": [
        "a=input()\n",
        "b=ord(a)\n",
        "print(b)"
      ],
      "metadata": {
        "colab": {
          "base_uri": "https://localhost:8080/"
        },
        "id": "f3iQiVycAQur",
        "outputId": "35f883d8-58ad-474c-ac2f-e01c0417b5b9"
      },
      "execution_count": null,
      "outputs": [
        {
          "output_type": "stream",
          "name": "stdout",
          "text": [
            "A\n",
            "65\n"
          ]
        }
      ]
    },
    {
      "cell_type": "markdown",
      "source": [
        "LENGHT OF THE STRING"
      ],
      "metadata": {
        "id": "CW8uC8znA39s"
      }
    },
    {
      "cell_type": "code",
      "source": [
        "s=input()\n",
        "l=0\n",
        "for i in s:\n",
        "  l=l+1\n",
        "print(l)"
      ],
      "metadata": {
        "colab": {
          "base_uri": "https://localhost:8080/"
        },
        "id": "1xCLNn7nA8hV",
        "outputId": "788b4492-fb4b-4139-c389-ecb954a459b7"
      },
      "execution_count": null,
      "outputs": [
        {
          "output_type": "stream",
          "name": "stdout",
          "text": [
            "Tejasri\n",
            "7\n"
          ]
        }
      ]
    },
    {
      "cell_type": "markdown",
      "source": [
        "CONVERT UPPER CASE TO LOWER CASE AND LOWER TO UPPER CASE USING SWAPCASE"
      ],
      "metadata": {
        "id": "gpwPTHzSCoZs"
      }
    },
    {
      "cell_type": "code",
      "source": [
        "str=input()\n",
        "print(str.swapcase())"
      ],
      "metadata": {
        "colab": {
          "base_uri": "https://localhost:8080/"
        },
        "id": "5ujqbxH4CTyc",
        "outputId": "d00c8835-cf15-4e6d-a8b3-74790168857d"
      },
      "execution_count": null,
      "outputs": [
        {
          "output_type": "stream",
          "name": "stdout",
          "text": [
            "AWvhtHJNig\n",
            "awVHThjnIG\n"
          ]
        }
      ]
    },
    {
      "cell_type": "code",
      "source": [
        "str=input()\n",
        "str1=\" \"\n",
        "for i in str:\n",
        "  if i.isupper():\n",
        "    i=i.lower()\n",
        "    str1 += i\n",
        "  elif i.islower():\n",
        "    i=i.upper()\n",
        "    str1 += i\n",
        "print(str1)"
      ],
      "metadata": {
        "colab": {
          "base_uri": "https://localhost:8080/"
        },
        "id": "u5-jSgCWC-JC",
        "outputId": "bd109df4-d458-4e0f-a6c6-66daaff584a4"
      },
      "execution_count": null,
      "outputs": [
        {
          "output_type": "stream",
          "name": "stdout",
          "text": [
            "TeJaSrI\n",
            " tEjAsRi\n"
          ]
        }
      ]
    },
    {
      "cell_type": "code",
      "source": [
        "str=input()\n",
        "str=str[0].upper()+str[1:len(str)-1]+str[len(str)-1].upper()\n",
        "print(str)"
      ],
      "metadata": {
        "colab": {
          "base_uri": "https://localhost:8080/"
        },
        "id": "MwkLaqImD1-Q",
        "outputId": "2585ef5c-4c2c-4de0-f138-9758c28ae938"
      },
      "execution_count": null,
      "outputs": [
        {
          "output_type": "stream",
          "name": "stdout",
          "text": [
            "tejasri\n",
            "TejasrI\n"
          ]
        }
      ]
    },
    {
      "cell_type": "code",
      "source": [
        "input_str = input()\n",
        "words = input_str.split()\n",
        "cap_words = []\n",
        "\n",
        "for word in words:\n",
        "    if len(word) > 1:\n",
        "        cap_word = word[0].upper() + word[1:-1] + word[-1].upper()\n",
        "    else:\n",
        "        cap_word = word.upper()\n",
        "\n",
        "    cap_words.append(cap_word)\n",
        "\n",
        "print(' '.join(cap_words))\n"
      ],
      "metadata": {
        "colab": {
          "base_uri": "https://localhost:8080/"
        },
        "id": "PAAyZmZwKkD1",
        "outputId": "72c1838f-6098-49b6-abfd-89416c2b9c8a"
      },
      "execution_count": null,
      "outputs": [
        {
          "output_type": "stream",
          "name": "stdout",
          "text": [
            "crack a code\n",
            "CracK A CodE\n"
          ]
        }
      ]
    },
    {
      "cell_type": "markdown",
      "source": [
        "Peter Rabbit lives in a colony. He is the only rabbit in his colony who is not able to hop. On his 5th birthday, his father Rabbit gifted him a pogo stick as he could not jump like the other rabbits. He is so excited to play with the pogo stick. The pogo stick hops one unit per jump. He wanders around his house jumping with pogo sticks. He wants to show the pogo stick to his friend and decides to go using his pogo stick. Write a program to find the number of hops needed to reach his friends' house (x,y). Assume that Peter Rabbit's house is in the coordinates (3,4).\n",
        "\n",
        "\n",
        "\n",
        "Input Format\n",
        "\n",
        "Input consists of two integers x and y.\n",
        "\n",
        "\n",
        "\n",
        "Output Format\n",
        "\n",
        "The output is an integer. It corresponds to the number of hops needed to reach his friend's house.\n",
        "\n",
        "\n",
        "\n",
        "Sample Input\n",
        "\n",
        "5\n",
        "\n",
        "10\n",
        "\n",
        "\n",
        "\n",
        "Sample Output\n",
        "\n",
        "6"
      ],
      "metadata": {
        "id": "O80DhG2M3cKu"
      }
    },
    {
      "cell_type": "code",
      "source": [
        "x=3\n",
        "y=4\n",
        "n=int(input())\n",
        "m=int(input())\n",
        "b=(abs(x-n))**2\n",
        "c=(abs(y-m))**2\n",
        "d=(b+c)**(1/2)\n",
        "e=d//1\n",
        "print(e)"
      ],
      "metadata": {
        "colab": {
          "base_uri": "https://localhost:8080/"
        },
        "id": "F9Ax0Ro_3doD",
        "outputId": "5485b007-83c2-4e5f-86f8-80cee995798b"
      },
      "execution_count": null,
      "outputs": [
        {
          "output_type": "stream",
          "name": "stdout",
          "text": [
            "5\n",
            "10\n",
            "6.0\n"
          ]
        }
      ]
    },
    {
      "cell_type": "markdown",
      "source": [
        "Having crossed the three-headed faun, Harry, Dumbledore, and Snape went through a secret trap door in search of the Sorcerer's tomb. On the way, they passed through a room and found that the room has only one door opposite to them, and the door through which they entered shut once they entered the room. The door was very large with a four-digit number imprinted on it. When Harry and Dumbledore tried to open it by casting out spells, it didn't open. Having tried various spells, both got fed up and left the task to Snape. Snape curiously observing the room found that a statement was written on the top of the room. It was written as follows \"I will be always four\" “I can only be opened when you add my first and last digit and enter it” and “If you find a sign, you should not consider it” help Snape break the code and open the door so that they can save the Sorcerer's tomb.\n",
        "\n",
        "\n",
        "\n",
        "Input Format:\n",
        "\n",
        "Input consists of an integer which is a four-digit number present on the door.\n",
        "\n",
        "\n",
        "\n",
        "Output Format:\n",
        "\n",
        "The output is a single integer.\n",
        "\n",
        "\n",
        "\n",
        "Sample Input 1:\n",
        "\n",
        "1001\n",
        "\n",
        "\n",
        "\n",
        "Sample Output 1:\n",
        "\n",
        "2\n",
        "\n",
        "\n",
        "\n",
        "Sample Input 2:\n",
        "\n",
        "1110\n",
        "\n",
        "\n",
        "\n",
        "Sample Output 2:\n",
        "\n",
        "1\n",
        "\n",
        "\n",
        "Case 1\n",
        "Input (stdin)\n",
        "1001\n",
        "\n",
        "Output (stdout)\n",
        "2"
      ],
      "metadata": {
        "id": "V-Qf969--L8a"
      }
    },
    {
      "cell_type": "code",
      "source": [
        "n =input()\n",
        "a=int(n[0])\n",
        "b=int(n[-1])\n",
        "sum=a+b\n",
        "print(sum)"
      ],
      "metadata": {
        "colab": {
          "base_uri": "https://localhost:8080/"
        },
        "id": "UgUkXB4--S62",
        "outputId": "6f3a992f-e99c-4e36-ad8c-bfd5d974086a"
      },
      "execution_count": null,
      "outputs": [
        {
          "output_type": "stream",
          "name": "stdout",
          "text": [
            "1001\n",
            "2\n"
          ]
        }
      ]
    },
    {
      "cell_type": "markdown",
      "source": [
        "Leena wanted to start a business and she was looking for a venture capitalist. Through her friend, she met a construction company owner Meena, who was interested in investing in an emerging business. Looking at the business proposal, the owner was very much impressed with Leena's work. So she decided to invest in Leena's business and hence gave a green signal to go ahead with the project. Leena got a loan of Rs. X for a period of Y years from the owner at R% interest per annum. Find the rate of interest and the total amount to be returned by Leena to the owner. The owner was impressed by the proper repayment of the financed amount and decides to give a special offer of a 2% discount on the total interest at the end of the settlement. Find the discount amount and also find the total amount given back by Leena.\n",
        "\n",
        "Note:All rupee values should be in two decimal points.\n",
        "\n",
        "\n",
        "\n",
        "Input Format:\n",
        "\n",
        "Input consists of 3 floating point values.\n",
        "\n",
        "The first one corresponds to the principal amount borrowed by Leena.\n",
        "\n",
        "The second one corresponds to the rate of interest\n",
        "\n",
        "The third one corresponds to the number of years.\n",
        "\n",
        "The output consists of 4 floating point values.\n",
        "\n",
        "\n",
        "\n",
        "Output Format:\n",
        "\n",
        "The first value corresponds to the interest.\n",
        "\n",
        "The second value corresponds to the amount.\n",
        "\n",
        "The third value corresponds to the discount.\n",
        "\n",
        "The last value corresponds to the final settlement.\n",
        "\n",
        "All floating point values are to be rounded off to two decimal places.\n",
        "\n",
        "\n",
        "\n",
        "Sample Input:\n",
        "\n",
        "100\n",
        "\n",
        "1\n",
        "\n",
        "10\n",
        "\n",
        "\n",
        "\n",
        "Sample Output:\n",
        "\n",
        "10.00\n",
        "\n",
        "110.00\n",
        "\n",
        "0.20\n",
        "\n",
        "109.80\n",
        "\n",
        "\n",
        "Case 1\n",
        "Case 2\n",
        "Input (stdin)\n",
        "100\n",
        "1\n",
        "10\n",
        "\n",
        "Output (stdout)\n",
        "10.00\n",
        "110.00\n",
        "0.20\n",
        "109.80"
      ],
      "metadata": {
        "id": "KJbYWPGtCqwr"
      }
    },
    {
      "cell_type": "code",
      "source": [
        "P = float(input())\n",
        "R = float(input())\n",
        "T = float(input())\n",
        "SI = (P * R * T) / 100\n",
        "A = P + SI\n",
        "Discount = 0.02 * SI\n",
        "Final_Settlement = A - Discount\n",
        "print(f\"{SI:.2f}\")\n",
        "print(f\"{A:.2f}\")\n",
        "print(f\"{Discount:.2f}\")\n",
        "print(f\"{Final_Settlement:.2f}\")"
      ],
      "metadata": {
        "colab": {
          "base_uri": "https://localhost:8080/"
        },
        "id": "WBUUJZNGC8I3",
        "outputId": "7af1bf74-d5c2-48c0-8fd2-7cae55cab491"
      },
      "execution_count": null,
      "outputs": [
        {
          "output_type": "stream",
          "name": "stdout",
          "text": [
            "100\n",
            "1\n",
            "10\n",
            "10.00\n",
            "110.00\n",
            "0.20\n",
            "109.80\n"
          ]
        }
      ]
    },
    {
      "cell_type": "markdown",
      "source": [
        "Reverse a String\n",
        "Write a function that will accept strings from the user and will reverse\n",
        "the string word-wise. The last word will come as the first word in the\n",
        "output and vice versa?\n",
        "Sample Test Case 1:\n",
        "Input:\n",
        "terv pro\n",
        "Output:\n",
        "pro terv\n",
        "Explanation:\n",
        "The reverse string word-wise function is applied.\n",
        "Sample Test Case 2:\n",
        "Input:\n",
        "Welcome to Sunday samayal\n",
        "Output:\n",
        "samayal Sunday to Welcome"
      ],
      "metadata": {
        "id": "hpUy7ccuineo"
      }
    },
    {
      "cell_type": "code",
      "source": [
        "def reverse(n):\n",
        "  rev=' '.join(n.split()[::-1])\n",
        "  return rev\n",
        "n=input()\n",
        "print(reverse(n))\n"
      ],
      "metadata": {
        "colab": {
          "base_uri": "https://localhost:8080/"
        },
        "id": "ZEmkv1FdgyBS",
        "outputId": "a26c8710-47ac-414d-e39e-3f5e932bf6b1"
      },
      "execution_count": null,
      "outputs": [
        {
          "output_type": "stream",
          "name": "stdout",
          "text": [
            "terv pro\n",
            "pro terv\n"
          ]
        }
      ]
    },
    {
      "cell_type": "markdown",
      "source": [
        "Replace Character\n",
        "Write a function Replacecharacter(Char str1, Char ch1, Int 1, Char ch2)\n",
        "which has a string(str) and the two characters ch1 and ch2. Execute a\n",
        "function in such a way that string str will return to its original string,\n",
        "and all the events in ch1 are replaced by ch2 and vice versa?\n",
        "Consider: The strings will have only alphabets in lower case.\n",
        "Sample Test Case:\n",
        "Input:\n",
        "str: tervpro\n",
        "ch1: e\n",
        "ch2: p\n",
        "Output:\n",
        "tprvero\n",
        "Solution:\n",
        "All the ‘e’s in the string are replaced with the ‘p’ and ‘p’ is replaced with\n",
        "the ‘e’."
      ],
      "metadata": {
        "id": "WAGz0_nyoAy-"
      }
    },
    {
      "cell_type": "code",
      "source": [
        "def replace(str,ch1,ch2):\n",
        "  str=str.replace(ch1,\"#\")\n",
        "  str=str.replace(ch2,ch1)\n",
        "  str=str.replace(\"#\",ch1)\n",
        "  return str\n",
        "str=input()\n",
        "ch1=input()\n",
        "ch2=input()\n",
        "print(replace(str,ch1,ch2))"
      ],
      "metadata": {
        "colab": {
          "base_uri": "https://localhost:8080/"
        },
        "id": "M-_-SDjZj3gO",
        "outputId": "318a5ee7-dab8-4725-90ac-6a8646ef38fa"
      },
      "execution_count": null,
      "outputs": [
        {
          "output_type": "stream",
          "name": "stdout",
          "text": [
            "tervpro\n",
            "e\n",
            "p\n",
            "tervero\n"
          ]
        }
      ]
    },
    {
      "cell_type": "markdown",
      "source": [
        "The function accepts two positive integers ‘r’ and ‘unit’ and a positive\n",
        "integer array ‘arr’ of size ‘n’ as its argument ‘r’ represents the number\n",
        "of rats present in an area, ‘unit’ is the amount of food each rat\n",
        "consumes and each ith element of array ‘arr’ represents the amount of\n",
        "food present in ‘i+1’ house number, where 0 <= i.\n",
        "Note:\n",
        "1. Return -1 if the array is null\n",
        "2. Return 0 if the total amount of food from all houses is not sufficient\n",
        "for all the rats.\n",
        "3. Computed values lie within the integer range.\n",
        "Example:\n",
        "Input:\n",
        "r: 7\n",
        "unit: 2\n",
        "n: 8\n",
        "arr: 2 8 3 5 7 4 1 2\n",
        "Output:\n",
        "4\n",
        "Explanation:\n",
        "Total amount of food required for all rats = r unit\n",
        "= 7 2 = 14.\n",
        "The amount of food in 1st houses = 2+8+3+5 = 18. Since, the amount of\n",
        "food in 1st 4 houses is sufficient for all the rats. Thus, output is 4."
      ],
      "metadata": {
        "id": "z-RwR-fd3eQ7"
      }
    },
    {
      "cell_type": "code",
      "source": [
        "r = 7\n",
        "unit = 2\n",
        "arr = [2, 8, 3, 5, 7, 4, 1, 2]\n",
        "n = 8\n",
        "if n == 0:\n",
        "    print(-1)\n",
        "else:\n",
        "    total_food = r * unit\n",
        "    total_food_available = 0\n",
        "    house_count = 0\n",
        "    for food in arr:\n",
        "        total_food_available += food\n",
        "        house_count += 1\n",
        "        if total_food_available >= total_food:\n",
        "            print(house_count)\n",
        "            break"
      ],
      "metadata": {
        "colab": {
          "base_uri": "https://localhost:8080/"
        },
        "id": "q1S97DYjvLr2",
        "outputId": "5a202815-f106-4e54-efe9-94daa172faba"
      },
      "execution_count": null,
      "outputs": [
        {
          "output_type": "stream",
          "name": "stdout",
          "text": [
            "4\n"
          ]
        }
      ]
    },
    {
      "cell_type": "markdown",
      "source": [
        "You are given a function,\n",
        "int findCount(int arr[], int length, int num, int diff);\n",
        "The function accepts an integer array ‘arr’, its length and two integer\n",
        "variables ‘num’ and ‘diff’. Implement this function to find and return\n",
        "the number of elements of ‘arr’ having an absolute difference of less\n",
        "than or equal to ‘diff’ with ‘num’.\n",
        "Note: In case there is no element in ‘arr’ whose absolute difference\n",
        "with ‘num’ is less than or equal to ‘diff’, return -1.\n",
        "Example:\n",
        "Input:\n",
        "arr: 12 3 14 56 77 13\n",
        "num: 13\n",
        "diff: 2\n",
        "Output:\n",
        "3\n",
        "Explanation:\n",
        "Elements of ‘arr’ having absolute difference of less than or equal to\n",
        "‘diff’ i.e. 2 with ‘num’ i.e. 13 are 12, 13 and 14"
      ],
      "metadata": {
        "id": "xvpQ_2dB3Kaw"
      }
    },
    {
      "cell_type": "code",
      "source": [
        "def findcount(arr,length,num,diff):\n",
        "  count=0\n",
        "  for i in range(length):\n",
        "    if abs(arr[i]-num)<=diff:\n",
        "       count+=1\n",
        "  if count==0:\n",
        "      return -1\n",
        "  return count\n",
        "arr=list(map(int,input().split()))\n",
        "length=int(input())\n",
        "num=int(input())\n",
        "diff=int(input())\n",
        "print(findcount(arr,length,num,diff))"
      ],
      "metadata": {
        "colab": {
          "base_uri": "https://localhost:8080/"
        },
        "id": "jexhPqBZwS-R",
        "outputId": "f0ad0d58-e289-492a-cf8a-fa6abb921414"
      },
      "execution_count": null,
      "outputs": [
        {
          "output_type": "stream",
          "name": "stdout",
          "text": [
            "12 3 14 56 77 13\n",
            "6\n",
            "13\n",
            "2\n",
            "3\n"
          ]
        }
      ]
    },
    {
      "cell_type": "markdown",
      "source": [
        "Jon Snow and the men in the north decided to open Castle Black for the northerners and the Castle was turned into a Hotel. The Hotel was flourishing and there was high demand for the rooms. So Jon Snow decided to modify the tariff accordingly. Write a program to calculate the hotel tariff. The room rent is 20% high during peak seasons [April-June and November-December].\n",
        "\n",
        "\n",
        "\n",
        "Input Format\n",
        "\n",
        "The first input integer denotes the count of the month. The second input integer denotes the room rent per day. The third input integer denotes the number of days stayed in the hotel.\n",
        "\n",
        "\n",
        "\n",
        "Output Format\n",
        "\n",
        "Print the hotel tariff to be paid. (Note: if the month value entered is not ranging from 1-12, print as Invalid Input)\n",
        "\n",
        "\n",
        "\n",
        "Sample Input\n",
        "\n",
        "3\n",
        "\n",
        "1500\n",
        "\n",
        "2\n",
        "\n",
        "\n",
        "\n",
        "Sample Output\n",
        "\n",
        "3000\n",
        "\n",
        "\n",
        "Case 1\n",
        "Case 2\n",
        "Input (stdin)\n",
        "3\n",
        "1500\n",
        "2\n",
        "\n",
        "Output (stdout)\n",
        "3000"
      ],
      "metadata": {
        "id": "mziDSbJ7I4PU"
      }
    },
    {
      "cell_type": "code",
      "source": [
        "n = int(input())\n",
        "a = int(input())\n",
        "b = int(input())\n",
        "if n < 1 or n > 12:\n",
        "    print(\"Invalid Input\")\n",
        "else:\n",
        "    if 4 <= n <= 6 or 11 <= n <= 12:\n",
        "        a = a * 1.2\n",
        "    total_tariff = int(a * b)\n",
        "    print(total_tariff)"
      ],
      "metadata": {
        "id": "SPBMy05VKd1R",
        "colab": {
          "base_uri": "https://localhost:8080/"
        },
        "outputId": "165131b1-98b3-430b-d758-74088eae789b"
      },
      "execution_count": null,
      "outputs": [
        {
          "output_type": "stream",
          "name": "stdout",
          "text": [
            "3\n",
            "1500\n",
            "2\n",
            "3000\n"
          ]
        }
      ]
    },
    {
      "cell_type": "markdown",
      "source": [
        "13. DECODE\n",
        "N-base notation is a system for writing numbers that uses only n\n",
        "different symbols, This symbols are the first n symbols from the given\n",
        "notation list(Including the symbol for o) Decimal to n base notation are\n",
        "(0:0, 1:1, 2:2, 3:3, 4:4, 5:5, 6:6, 7:7, 8:8, 9:9, 10:A,11:B and so on upto\n",
        "35:Z).\n",
        "Implement the following function\n",
        "char DectoNBase(int n, int num):*\n",
        "The function accept positive integer n and num Implement the function\n",
        "to calculate the n-base equivalent of num and return the same as a\n",
        "string\n",
        "Steps:\n",
        "Divide the decimal number by n,Treat the division as the integer\n",
        "division\n",
        "Write the the remainder (in n-base notation)\n",
        "Divide the quotient again by n, Treat the division as integer division\n",
        "Repeat step 2 and 3 until the quotient is 0\n",
        "The n-base value is the sequence of the remainders from last to first\n",
        "Assumption:\n",
        "1 < n < = 36\n",
        " Example\n",
        "Input\n",
        "n: 12\n",
        "num: 718\n",
        "Output\n",
        "4BA\n",
        "Explanation\n",
        "num = 718, divisor = 12, quotient=59, remainder=10(A).\n",
        "num = 59, divisor = 12, quotient=4, remainder=11(B).\n",
        "num = 4, divisor = 12, quotient=0, remainder=4(A)."
      ],
      "metadata": {
        "id": "bSbu-kuChlS1"
      }
    },
    {
      "cell_type": "code",
      "source": [
        "def DectoNBase(n, num):\n",
        "    if num == 0:\n",
        "        return \"0\"\n",
        "    symbols = \"0123456789ABCDEFGHIJKLMNOPQRSTUVWXYZ\"\n",
        "    result = []\n",
        "    while num > 0:\n",
        "        remainder = num % n\n",
        "        result.append(symbols[remainder])\n",
        "        num = num // n\n",
        "    result.reverse()\n",
        "    return ''.join(result)\n",
        "n = int(input())\n",
        "num = int(input())\n",
        "print(DectoNBase(n, num))\n",
        "\n"
      ],
      "metadata": {
        "colab": {
          "base_uri": "https://localhost:8080/"
        },
        "id": "O8Pzg8DmgZD5",
        "outputId": "ffcd63d0-6aab-4a21-813f-c9894d97ce06"
      },
      "execution_count": null,
      "outputs": [
        {
          "output_type": "stream",
          "name": "stdout",
          "text": [
            "12\n",
            "718\n",
            "4BA\n"
          ]
        }
      ]
    },
    {
      "cell_type": "markdown",
      "source": [
        "14. MATRIX EVEN ODD\n",
        "You are required to input the size of the matrix then the elements of\n",
        "matrix, then you have to divide the main matrix in two sub matrices\n",
        "(even and odd) in such a way that element at 0 index will be considered\n",
        "as even and element at 1st index will be considered as odd and so on.\n",
        "Then you have sort the even and odd matrices in ascending order and\n",
        "print the sum of second largest number from both the matrices.\n",
        "Example\n",
        "enter the size of array : 5\n",
        "enter element at 0 index : 3\n",
        "enter element at 1 index : 4\n",
        "enter element at 2 index : 1\n",
        "enter element at 3 index : 7\n",
        "enter element at 4 index : 9\n",
        "Sorted even array : 1 3 9\n",
        "Sorted odd array : 4 7\n",
        "Sum = 7"
      ],
      "metadata": {
        "id": "XSeJJk4TjWjz"
      }
    },
    {
      "cell_type": "code",
      "source": [
        "arr=[]\n",
        "even_arr=[]\n",
        "odd_arr=[]\n",
        "n=int(input(\"enter size of the array:\"))\n",
        "for i in range(0,n):\n",
        "  number=int(input(\"enter element at {} index:\".format(i)))\n",
        "  arr.append(number)\n",
        "  if i%2==0:1\n",
        "    even_arr.append(number)\n",
        "  else:\n",
        "    odd_arr.append(number)\n",
        "even_arr.sort()\n",
        "odd_arr.sort()\n",
        "print(even_arr[-2]+odd_arr[-2])\n",
        "\n"
      ],
      "metadata": {
        "colab": {
          "base_uri": "https://localhost:8080/"
        },
        "id": "xlkVpwuPidDu",
        "outputId": "b52b8fad-3e21-4cba-ab74-d1383e11bc33"
      },
      "execution_count": null,
      "outputs": [
        {
          "output_type": "stream",
          "name": "stdout",
          "text": [
            "enter size of the array:5\n",
            "enter element at 0 index:3\n",
            "enter element at 1 index:4\n",
            "enter element at 2 index:1\n",
            "enter element at 3 index:7\n",
            "enter element at 4 index:9\n",
            "7\n"
          ]
        }
      ]
    },
    {
      "cell_type": "markdown",
      "source": [
        "15. MATHS IS FUN\n",
        "You are required to implement the following function:\n",
        "int Calculate(int m, int n);\n",
        "The function accepts 2 positive integers ‘m’ and ‘n’ as its arguments.You\n",
        "are required to calculate the sum of numbers divisible both by 3 and 5,\n",
        "between ‘m’ and ‘n’ both inclusive and return the same.\n",
        "Note\n",
        "0 < m <= n\n",
        "Example\n",
        "Input:\n",
        "m : 12\n",
        "n : 50\n",
        "Output\n",
        "90\n",
        "Explanation:\n",
        "The numbers divisible by both 3 and 5, between 12 and 50 both\n",
        "inclusive are {15, 30, 45} and their sum is 90.\n",
        "Sample Input\n",
        "m : 100\n",
        "n : 160\n",
        "Sample Output\n",
        "510"
      ],
      "metadata": {
        "id": "mfmm0WWkkUYN"
      }
    },
    {
      "cell_type": "code",
      "source": [
        "def Calculate(m, n):\n",
        "    sum=0\n",
        "    for i in range(m,n+1):\n",
        "      if i%3==0 and i%5==0:\n",
        "        sum+=i\n",
        "    return sum\n",
        "m=int(input())\n",
        "n=int(input())\n",
        "print(Calculate(m,n))\n",
        "\n"
      ],
      "metadata": {
        "colab": {
          "base_uri": "https://localhost:8080/"
        },
        "id": "Y_P9X59BkDvo",
        "outputId": "cac2f7ef-c5f7-4370-b9e2-62ae1f27c0fd"
      },
      "execution_count": null,
      "outputs": [
        {
          "output_type": "stream",
          "name": "stdout",
          "text": [
            "100\n",
            "160\n",
            "510\n"
          ]
        }
      ]
    },
    {
      "cell_type": "markdown",
      "source": [
        "16. Write a program to find the length of the longest common\n",
        "subsequence between two strings."
      ],
      "metadata": {
        "id": "Pc25-0-qld3W"
      }
    },
    {
      "cell_type": "code",
      "source": [
        "def longest_common_subsequence(str1, str2):\n",
        "    m, n = len(str1), len(str2)\n",
        "    if m < n:\n",
        "        str1, str2 = str2, str1\n",
        "        m, n = n, m\n",
        "    prev = [0] * (n + 1)\n",
        "    curr = [0] * (n + 1)\n",
        "    for i in range(1, m + 1):\n",
        "        for j in range(1, n + 1):\n",
        "            if str1[i - 1] == str2[j - 1]:\n",
        "                curr[j] = prev[j - 1] + 1\n",
        "            else:\n",
        "                curr[j] = max(prev[j], curr[j - 1])\n",
        "        prev, curr = curr, prev\n",
        "    return prev[n]\n",
        "print(longest_common_subsequence(\"ABCBDAB\", \"BDCAB\"))\n",
        "print(longest_common_subsequence(\"AGGTAB\", \"GXTXAYB\"))\n"
      ],
      "metadata": {
        "colab": {
          "base_uri": "https://localhost:8080/"
        },
        "id": "v577N1VHlMuV",
        "outputId": "62e5cf53-bf44-4eb9-cb9e-c2931a8617c3"
      },
      "execution_count": null,
      "outputs": [
        {
          "output_type": "stream",
          "name": "stdout",
          "text": [
            "4\n",
            "4\n"
          ]
        }
      ]
    },
    {
      "cell_type": "markdown",
      "source": [
        "17. Write a program to find the length of the longest palindrome\n",
        "subsequence in a string."
      ],
      "metadata": {
        "id": "SP6kSRKUKPjH"
      }
    },
    {
      "cell_type": "code",
      "source": [
        "def longest_palindromic_subsequence(s: str) -> int:\n",
        "    n = len(s)\n",
        "    dp = [[0] * n for _ in range(n)]\n",
        "    for i in range(n):\n",
        "        dp[i][i] = 1\n",
        "    for cl in range(2, n + 1):\n",
        "        for i in range(n - cl + 1):\n",
        "            j = i + cl - 1\n",
        "            dp[i][j] = 2 + dp[i + 1][j - 1] if s[i] == s[j]  else max(dp[i + 1][j], dp[i][j - 1])\n",
        "    return dp[0][n - 1]\n",
        "s = \"bbbab\"\n",
        "print( longest_palindromic_subsequence(s))"
      ],
      "metadata": {
        "colab": {
          "base_uri": "https://localhost:8080/"
        },
        "id": "dHBix_bpJj_A",
        "outputId": "c7eb329f-b256-45ec-91d5-88641fb70eb0"
      },
      "execution_count": null,
      "outputs": [
        {
          "output_type": "stream",
          "name": "stdout",
          "text": [
            "4\n"
          ]
        }
      ]
    },
    {
      "cell_type": "markdown",
      "source": [
        "Write a program to find all permutations of a string."
      ],
      "metadata": {
        "id": "-yYrFdn0OK9f"
      }
    },
    {
      "cell_type": "code",
      "source": [
        "def permute(s, answer):\n",
        "    if len(s) == 0:\n",
        "        print(answer)\n",
        "        return\n",
        "\n",
        "    for i in range(len(s)):\n",
        "        char = s[i]\n",
        "        left_substr = s[0:i]\n",
        "        right_substr = s[i+1:]\n",
        "        rest = left_substr + right_substr\n",
        "        permute(rest, answer + char)\n",
        "s = input()\n",
        "permute(s, \"\")"
      ],
      "metadata": {
        "colab": {
          "base_uri": "https://localhost:8080/"
        },
        "id": "tYspBEYQcE1f",
        "outputId": "2e9b5b18-db07-420f-a251-f91764ac29e5"
      },
      "execution_count": null,
      "outputs": [
        {
          "output_type": "stream",
          "name": "stdout",
          "text": [
            "ABC\n",
            "ABC\n",
            "ACB\n",
            "BAC\n",
            "BCA\n",
            "CAB\n",
            "CBA\n"
          ]
        }
      ]
    },
    {
      "cell_type": "markdown",
      "source": [
        "19. SMALEST PRODUCT\n",
        "def ProductSmallestPair(sum, arr)\n",
        "The function accepts an integers sum and an integer array arr of size n.\n",
        "Implement the function to find the pair, (arr[j], arr[k]) where j!=k, Such\n",
        "that arr[j] and arr[k] are the least two elements of array (arr[j] + arr[k]\n",
        "<= sum) and return the product of element of this pair\n",
        "NOTE\n",
        "Return -1 if array is empty or if n<2\n",
        "Return 0, if no such pairs found\n",
        "All computed values lie within integer range\n",
        "\n",
        "Example\n",
        "Input\n",
        "sum:9\n",
        "size of Arr = 7\n",
        "Arr:5 2 4 3 9 7 1\n",
        "Output\n",
        "2\n",
        "Explanation\n",
        "Pair of least two element is (2, 1) 2 + 1 = 3 < 9, Product of (2, 1) 2*1 = 2.\n",
        "Thus, output is 2\n",
        "Sample Input\n",
        "sum:4\n",
        "size of Arr = 6\n",
        "Arr:9 8 3 -7 3 9\n",
        "Sample Output -21"
      ],
      "metadata": {
        "id": "OI3TXZihQQgt"
      }
    },
    {
      "cell_type": "code",
      "source": [
        "def least_product(sum,n,arr):\n",
        "  if n<2:\n",
        "    return -1\n",
        "  arr.sort()\n",
        "  s=arr[0]+arr[1]\n",
        "  if s<=sum:\n",
        "    return arr[0]*arr[1]\n",
        "  return 0\n",
        "sum=int(input())\n",
        "n=int(input())\n",
        "arr=list(map(int,input().split()))\n",
        "print(least_product(sum,n,arr))\n"
      ],
      "metadata": {
        "colab": {
          "base_uri": "https://localhost:8080/"
        },
        "id": "1Q_UN_XeXhai",
        "outputId": "5a148ca3-2eb1-4d9f-8d06-c307bef16958"
      },
      "execution_count": null,
      "outputs": [
        {
          "output_type": "stream",
          "name": "stdout",
          "text": [
            "9\n",
            "7\n",
            "5 2 4 3 9 7 1\n",
            "2\n"
          ]
        }
      ]
    },
    {
      "cell_type": "markdown",
      "source": [
        "20. MOVES\n",
        "char*MoveHyphen(char str[],int n);\n",
        "The function accepts a string “str” of length ‘n’, that contains alphabets\n",
        "and hyphens (-). Implement the function to move all hyphens(-) in the\n",
        "string to the front of the given string.\n",
        "NOTE:- Return null if str is null.\n",
        "Example :-\n",
        "Input:\n",
        "str.Move-Hyphens-to-Front\n",
        "Output:\n",
        "—MoveHyphenstoFront\n",
        "Explanation:-\n",
        "The string “Move-Hyphens -to-front” has 3 hyphens (-), which are\n",
        "moved to the front of the string, this output is “— MoveHyphen”\n",
        "Sample Input\n",
        "Str: String-Compare\n",
        "Sample Output- -StringCompare"
      ],
      "metadata": {
        "id": "KGKLutGsQ7l2"
      }
    },
    {
      "cell_type": "code",
      "source": [
        "def hyfen(n):\n",
        "    count=''\n",
        "    string=''\n",
        "    for char in n:\n",
        "        if char==\"-\":\n",
        "            count+=char\n",
        "        else:\n",
        "            string+=char\n",
        "    return count+string\n",
        "n=input()\n",
        "print(hyfen(n))"
      ],
      "metadata": {
        "colab": {
          "base_uri": "https://localhost:8080/"
        },
        "id": "uYlfFyMIRXGm",
        "outputId": "c948f8d7-7d5c-4f6f-d985-7e211d1b4f26"
      },
      "execution_count": null,
      "outputs": [
        {
          "output_type": "stream",
          "name": "stdout",
          "text": [
            "te-ja-sr-i\n",
            "---tejasri\n"
          ]
        }
      ]
    },
    {
      "cell_type": "markdown",
      "source": [
        "The given are two positive integers Year and Month, the task is to find the number of days corresponding to each month of the given year where 1 is January, 2 is February, 3 is March, and so on.\n",
        "\n",
        "Note: The Input range of year: Minimum Year = 1900 and Maximum Year = 9999 i.e (1900<=Year<=9999). The Input range of month: Minimum Month = 12 and Maximum Year = 12 i.e (1<=month<=12) If the given year does not lie between the given range, output 0.\n",
        "\n",
        "\n",
        "\n",
        "Input Format\n",
        "\n",
        "The input consists of two lines. The first line contains an integer, which is the Year. The second line contains an integer, which is the Month.\n",
        "\n",
        "\n",
        "\n",
        "Output Format\n",
        "\n",
        "The output prints the number of days. Refer to the sample output\n",
        "\n",
        "\n",
        "\n",
        "Sample Input 1\n",
        "\n",
        "2000\n",
        "\n",
        "2\n",
        "\n",
        "\n",
        "\n",
        "Sample Output 1\n",
        "\n",
        "29 Days\n",
        "\n",
        "\n",
        "Case 1\n",
        "Case 2\n",
        "Input (stdin)\n",
        "1999\n",
        "8\n",
        "\n",
        "Output (stdout)\n",
        "31 Days"
      ],
      "metadata": {
        "id": "6705FSEJ3CJy"
      }
    },
    {
      "cell_type": "code",
      "source": [
        "def interger(n,m):\n",
        "  if 1900<=n<=9999 and 1<=m<=12:\n",
        "    if m==1:\n",
        "      return\"31\"\n",
        "    elif m==2:\n",
        "      if n%4==0:\n",
        "        return\"29 Days\"\n",
        "      else:\n",
        "        return\"28 Days\"\n",
        "    elif m==3:\n",
        "      return\"31 Days\"\n",
        "    elif m==4:\n",
        "      return\"30 Days\"\n",
        "    elif m==5:\n",
        "      return\"31 Days\"\n",
        "    elif m==6:\n",
        "      return\"30 Days\"\n",
        "    elif m==7:\n",
        "      return\"31 Days\"\n",
        "    elif m==8:\n",
        "      return\"31 Days\"\n",
        "    elif m==9:\n",
        "      return\"30 Days\"\n",
        "    elif m==10:\n",
        "      return\"31 Days\"\n",
        "    elif m==11:\n",
        "      return\"30 Days\"\n",
        "    elif m==12:\n",
        "      return\"31 Days\"\n",
        "  else:\n",
        "    return \"0\"\n",
        "n=int(input())\n",
        "m=int(input())\n",
        "print(interger(n,m))"
      ],
      "metadata": {
        "colab": {
          "base_uri": "https://localhost:8080/"
        },
        "id": "kdEVBkbg3Guf",
        "outputId": "74f6575c-faa6-46af-98b1-b9b36b826d79"
      },
      "execution_count": 1,
      "outputs": [
        {
          "output_type": "stream",
          "name": "stdout",
          "text": [
            "2000\n",
            "2\n",
            "29 Days\n"
          ]
        }
      ]
    },
    {
      "cell_type": "markdown",
      "source": [
        "A prime number is divisible only by 1 and itself. You are given a positive integer. Write an algorithm to find all the prime numbers from 2 to the given positive number\n",
        "\n",
        "\n",
        "\n",
        "Input Format\n",
        "\n",
        "The input consists of an integer.\n",
        "\n",
        "\n",
        "\n",
        "Output Format\n",
        "\n",
        "Print space-separated integers representing the prime numbers till the given positive number.\n",
        "\n",
        "\n",
        "\n",
        "Sample Input 1\n",
        "\n",
        "11\n",
        "\n",
        "\n",
        "\n",
        "Sample Output 1\n",
        "\n",
        "2 3 5 7 11\n",
        "\n",
        "\n",
        "Case 1\n",
        "Case 2\n",
        "Input (stdin)\n",
        "11\n",
        "\n",
        "Output (stdout)\n",
        "2 3 5 7 11"
      ],
      "metadata": {
        "id": "0twdKlgNDx4N"
      }
    },
    {
      "cell_type": "code",
      "source": [
        "def is_prime(num):\n",
        "    if num < 2:\n",
        "        return False\n",
        "    for i in range(2,int(num** 0.5)+ 1):\n",
        "        if num % i == 0:\n",
        "            return False\n",
        "    return True\n",
        "def find_primes_up_to(n):\n",
        "    primes = []\n",
        "    for i in range(2, n + 1):\n",
        "        if is_prime(i):\n",
        "            primes.append(i)\n",
        "    return primes\n",
        "n = int(input())\n",
        "primes = find_primes_up_to(n)\n",
        "print(\" \".join(map(str, primes)))"
      ],
      "metadata": {
        "colab": {
          "base_uri": "https://localhost:8080/"
        },
        "id": "H31WEzTeDzLx",
        "outputId": "86c28320-c8e3-4a6b-8171-e7f01f3e03b5"
      },
      "execution_count": 2,
      "outputs": [
        {
          "output_type": "stream",
          "name": "stdout",
          "text": [
            "11\n",
            "2 3 5 7 11\n"
          ]
        }
      ]
    }
  ]
}