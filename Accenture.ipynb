{
  "nbformat": 4,
  "nbformat_minor": 0,
  "metadata": {
    "colab": {
      "provenance": [],
      "authorship_tag": "ABX9TyP8Z+XK2RWsuup+AcXTdsuJ",
      "include_colab_link": true
    },
    "kernelspec": {
      "name": "python3",
      "display_name": "Python 3"
    },
    "language_info": {
      "name": "python"
    }
  },
  "cells": [
    {
      "cell_type": "markdown",
      "metadata": {
        "id": "view-in-github",
        "colab_type": "text"
      },
      "source": [
        "<a href=\"https://colab.research.google.com/github/veerankiteja/CODING/blob/main/Accenture.ipynb\" target=\"_parent\"><img src=\"https://colab.research.google.com/assets/colab-badge.svg\" alt=\"Open In Colab\"/></a>"
      ]
    },
    {
      "cell_type": "markdown",
      "source": [
        "def differenceofSum(n. m)\n",
        "\n",
        "The function accepts two integers n, m as arguments Find the sum of all numbers in range from 1 to m(both inclusive) that are not divisible by n. Return difference between sum of integers not divisible by n with sum of numbers divisible by n.\n",
        "\n",
        "Assumption:\n",
        "\n",
        "n>0 and m>0\n",
        "\n",
        "Sum lies between integral range\n",
        "\n",
        "Example\n",
        "\n",
        "Input\n",
        "\n",
        "n:4\n",
        "\n",
        "m:20\n",
        "\n",
        "Output 90\n",
        "\n",
        "Explanation\n",
        "\n",
        "Sum of numbers divisible by 4 are 4+8+12+16 + 20 = 60\n",
        "\n",
        "Sum of numbers not divisible by 4 are 1+2+3+5\n",
        "\n",
        "+6+7+9+10+11+13+14+15+17+18+19=\n",
        "\n",
        "150\n",
        "\n",
        "Difference 150-60 = 90\n",
        "\n",
        "Sample Input\n",
        "\n",
        "n:3\n",
        "\n",
        "m:10\n",
        "\n",
        "m:10\n",
        "\n",
        "Sample Output\n",
        "\n",
        "19"
      ],
      "metadata": {
        "id": "4R4lHhL-kp3X"
      }
    },
    {
      "cell_type": "code",
      "execution_count": null,
      "metadata": {
        "colab": {
          "base_uri": "https://localhost:8080/"
        },
        "id": "fGaEh3Bakn9E",
        "outputId": "eec79cb1-05b9-43ac-f4d6-cab62458fc6d"
      },
      "outputs": [
        {
          "output_type": "stream",
          "name": "stdout",
          "text": [
            "Enter the value of n: 3\n",
            "Enter the value of m: 10\n",
            "The difference of the sums is: 19\n"
          ]
        }
      ],
      "source": [
        "def difference_of_sum(n, m):\n",
        "    sum_divisible_by_n = 0\n",
        "    sum_not_divisible_by_n = 0\n",
        "\n",
        "    for i in range(1, m + 1):\n",
        "        if i % n == 0:\n",
        "            sum_divisible_by_n += i\n",
        "        else:\n",
        "            sum_not_divisible_by_n += i\n",
        "\n",
        "    result = sum_not_divisible_by_n - sum_divisible_by_n\n",
        "    return result\n",
        "n = int(input(\"Enter the value of n: \"))\n",
        "m = int(input(\"Enter the value of m: \"))\n",
        "result = difference_of_sum(n, m)\n",
        "print(\"The difference of the sums is:\", result)\n"
      ]
    },
    {
      "cell_type": "markdown",
      "source": [
        "REPLACE CHARACTER"
      ],
      "metadata": {
        "id": "EgGP1uwcqQkD"
      }
    },
    {
      "cell_type": "code",
      "source": [
        "def replacecharacter(str,ch1,ch2):\n",
        "  n = len(str)\n",
        "  if n == 0:\n",
        "     return \"null\"\n",
        "  temp = \" \"\n",
        "  str = str.replace(ch1,temp)\n",
        "  str = str.replace(ch2,ch1)\n",
        "  str = str.replace(temp,ch2)\n",
        "  return str\n",
        "str = input()\n",
        "ch1 = input()\n",
        "ch2 = input()\n",
        "print(replacecharacter(str,ch1,ch2))\n"
      ],
      "metadata": {
        "colab": {
          "base_uri": "https://localhost:8080/"
        },
        "id": "Fk1I-TvjqT11",
        "outputId": "ef5f6e3d-1f9d-46c2-9cbf-c845f5bda4f6"
      },
      "execution_count": null,
      "outputs": [
        {
          "output_type": "stream",
          "name": "stdout",
          "text": [
            "apple\n",
            "a\n",
            "p\n",
            "paale\n"
          ]
        }
      ]
    },
    {
      "cell_type": "markdown",
      "source": [
        "AUTOMORPHIC"
      ],
      "metadata": {
        "id": "j22Xjq5OyCUI"
      }
    },
    {
      "cell_type": "code",
      "source": [
        "n=int(input())\n",
        "m=n*n\n",
        "num=m%10\n",
        "if num==n:\n",
        "  print(\"Automorphic\")\n",
        "else:\n",
        "  print(\"Not Automorphic\")"
      ],
      "metadata": {
        "colab": {
          "base_uri": "https://localhost:8080/"
        },
        "id": "yPMfz44QyJim",
        "outputId": "fd378f2f-f5c7-4a67-fcc5-0e2f259ae41b"
      },
      "execution_count": null,
      "outputs": [
        {
          "output_type": "stream",
          "name": "stdout",
          "text": [
            "5\n",
            "Automorphic\n"
          ]
        }
      ]
    },
    {
      "cell_type": "markdown",
      "source": [
        "ABINDANT"
      ],
      "metadata": {
        "id": "FRElf1I4zfbz"
      }
    },
    {
      "cell_type": "code",
      "source": [
        "n=int(input())\n",
        "sum=0\n",
        "for i in range(1,n):\n",
        "  if n%i==0:\n",
        "    sum=sum+i\n",
        "if sum>n:\n",
        "  print(\"ABUNDANT\")\n",
        "elif sum<n:\n",
        "  print(\"NOT ABUNDANT\")"
      ],
      "metadata": {
        "colab": {
          "base_uri": "https://localhost:8080/"
        },
        "id": "EV4QbMuwziZF",
        "outputId": "22ecfc09-55c4-4ea6-d2a6-c4e79f51bd7a"
      },
      "execution_count": null,
      "outputs": [
        {
          "output_type": "stream",
          "name": "stdout",
          "text": [
            "12\n",
            "ABUNDANT\n"
          ]
        }
      ]
    },
    {
      "cell_type": "markdown",
      "source": [
        "HARSHAD NUMBER"
      ],
      "metadata": {
        "id": "C0GVaD9m1uUU"
      }
    },
    {
      "cell_type": "code",
      "source": [
        "n=int(input())\n",
        "sum=0\n",
        "temp=n\n",
        "while n>0:\n",
        "  r=n%10\n",
        "  sum=sum+r\n",
        "  n=n//10\n",
        "if temp%sum==0:\n",
        "  print(\"Harshad Number\")\n",
        "  print(sum)\n",
        "else:\n",
        "  print(\"Not Harshad Number\")"
      ],
      "metadata": {
        "colab": {
          "base_uri": "https://localhost:8080/"
        },
        "id": "xVA_cxLo1yZy",
        "outputId": "7b528c9a-b10c-4519-be33-f32fb91bd5a7"
      },
      "execution_count": null,
      "outputs": [
        {
          "output_type": "stream",
          "name": "stdout",
          "text": [
            "21\n",
            "Harshad Number\n",
            "3\n"
          ]
        }
      ]
    },
    {
      "cell_type": "markdown",
      "source": [
        "PERFACT NUMBER"
      ],
      "metadata": {
        "id": "4C-ys2644tX3"
      }
    },
    {
      "cell_type": "code",
      "source": [
        "n=int(input())\n",
        "sum=0\n",
        "for i in range(1,n):\n",
        "  if n%i==0:\n",
        "    sum=sum+i\n",
        "if sum==n:\n",
        "  print(\"perfact number\")\n",
        "elif sum!=n:\n",
        "  print(\"not perfact number\")"
      ],
      "metadata": {
        "colab": {
          "base_uri": "https://localhost:8080/"
        },
        "id": "gN06ZFaX4xFs",
        "outputId": "06023ec3-60f5-4e2c-b621-ba3c2f146511"
      },
      "execution_count": null,
      "outputs": [
        {
          "output_type": "stream",
          "name": "stdout",
          "text": [
            "6\n",
            "perfact number\n"
          ]
        }
      ]
    },
    {
      "cell_type": "markdown",
      "source": [
        "FRIENDLY PAIR"
      ],
      "metadata": {
        "id": "beoHnAj-6hsx"
      }
    },
    {
      "cell_type": "code",
      "source": [
        "n1=int(input())\n",
        "n2=int(input())\n",
        "sum1=0\n",
        "sum2=0\n",
        "for i in range(1,n1):\n",
        "  if n1%i==0:\n",
        "    sum1=sum1+i\n",
        "for j in range(1,n2):\n",
        "  if n2%j==0:\n",
        "    sum2=sum2+j\n",
        "if sum1==n2 and sum2==n1:\n",
        "  print(\"FRIENDLY PAIR\")\n",
        "else:\n",
        "  print(\"NOT FRIENDLY PAIR\")"
      ],
      "metadata": {
        "colab": {
          "base_uri": "https://localhost:8080/"
        },
        "id": "dxMSGCoe6k9L",
        "outputId": "6a5a3e62-6fec-4284-8918-ba2c74b3a44f"
      },
      "execution_count": null,
      "outputs": [
        {
          "output_type": "stream",
          "name": "stdout",
          "text": [
            "6\n",
            "6\n",
            "FRIENDLY PAIR\n"
          ]
        }
      ]
    },
    {
      "cell_type": "markdown",
      "source": [
        "PERFACT SQUARE"
      ],
      "metadata": {
        "id": "zYby6qPL9IUO"
      }
    },
    {
      "cell_type": "code",
      "source": [
        "import math\n",
        "n=int(input())\n",
        "root=math.sqrt(n)\n",
        "if int(root+0.5)**2==n:\n",
        "  print(\"perfect square\")\n",
        "else:\n",
        "  print(\"not perfect square\")\n"
      ],
      "metadata": {
        "colab": {
          "base_uri": "https://localhost:8080/"
        },
        "id": "0MODxmBC9Q_1",
        "outputId": "b26a4656-1251-4806-e9eb-881cb4c4eca5"
      },
      "execution_count": null,
      "outputs": [
        {
          "output_type": "stream",
          "name": "stdout",
          "text": [
            "25\n",
            "perfect square\n"
          ]
        }
      ]
    },
    {
      "cell_type": "markdown",
      "source": [
        "STRINGS"
      ],
      "metadata": {
        "id": "FYHYRgNC5EWz"
      }
    },
    {
      "cell_type": "markdown",
      "source": [
        "VOWEL"
      ],
      "metadata": {
        "id": "n834Ca9m5fHf"
      }
    },
    {
      "cell_type": "code",
      "source": [
        "c=input()\n",
        "if(c=='a' or c=='e' or c=='i' or c=='o' or c=='u' or c=='A' or c=='E' or c=='I' or c=='O' or c=='U'):\n",
        "  print(\"vowel\")\n",
        "else:\n",
        "  print(\"consenant\")"
      ],
      "metadata": {
        "colab": {
          "base_uri": "https://localhost:8080/"
        },
        "id": "FlSXmCqI5ln1",
        "outputId": "3614df47-5e05-44ed-a0e5-2bbfb853f474"
      },
      "execution_count": null,
      "outputs": [
        {
          "output_type": "stream",
          "name": "stdout",
          "text": [
            "a\n",
            "vowel\n"
          ]
        }
      ]
    },
    {
      "cell_type": "code",
      "source": [
        "a = input(\"Enter a string: \")\n",
        "v = 0\n",
        "c = 0\n",
        "for i in a:\n",
        "    if i in 'aeiouAEIOU':\n",
        "        v += 1\n",
        "    elif i.isalpha():\n",
        "        c += 1\n",
        "print(\"Vowels:\", v)\n",
        "print(\"Consonants:\", c)"
      ],
      "metadata": {
        "colab": {
          "base_uri": "https://localhost:8080/"
        },
        "id": "68hGhTbs9Ma1",
        "outputId": "e80c0b81-e823-4626-999b-388849264abf"
      },
      "execution_count": null,
      "outputs": [
        {
          "output_type": "stream",
          "name": "stdout",
          "text": [
            "Enter a string: Tejasri\n",
            "Vowels: 3\n",
            "Consonants: 4\n"
          ]
        }
      ]
    },
    {
      "cell_type": "markdown",
      "source": [
        "ALPHABET OR NOT"
      ],
      "metadata": {
        "id": "SE4ztEOa9jU-"
      }
    },
    {
      "cell_type": "code",
      "source": [
        "ch=input()\n",
        "if 'a'<=ch<='z' or 'A'<=ch<='Z':\n",
        "  print(\"alphabet\",ch)\n",
        "else:\n",
        "  print(\"not alphabet\",ch)"
      ],
      "metadata": {
        "colab": {
          "base_uri": "https://localhost:8080/"
        },
        "id": "bLrkprcn9p_T",
        "outputId": "eb0720b0-fd98-4ba4-b5a0-51dcb4da2e2f"
      },
      "execution_count": null,
      "outputs": [
        {
          "output_type": "stream",
          "name": "stdout",
          "text": [
            "a#2\n",
            "alphabet a#2\n"
          ]
        }
      ]
    },
    {
      "cell_type": "markdown",
      "source": [
        "ASCII VALUE"
      ],
      "metadata": {
        "id": "vhkoisasAHKm"
      }
    },
    {
      "cell_type": "code",
      "source": [
        "a=input()\n",
        "b=ord(a)\n",
        "print(b)"
      ],
      "metadata": {
        "colab": {
          "base_uri": "https://localhost:8080/"
        },
        "id": "f3iQiVycAQur",
        "outputId": "35f883d8-58ad-474c-ac2f-e01c0417b5b9"
      },
      "execution_count": null,
      "outputs": [
        {
          "output_type": "stream",
          "name": "stdout",
          "text": [
            "A\n",
            "65\n"
          ]
        }
      ]
    },
    {
      "cell_type": "markdown",
      "source": [
        "LENGHT OF THE STRING"
      ],
      "metadata": {
        "id": "CW8uC8znA39s"
      }
    },
    {
      "cell_type": "code",
      "source": [
        "s=input()\n",
        "l=0\n",
        "for i in s:\n",
        "  l=l+1\n",
        "print(l)"
      ],
      "metadata": {
        "colab": {
          "base_uri": "https://localhost:8080/"
        },
        "id": "1xCLNn7nA8hV",
        "outputId": "788b4492-fb4b-4139-c389-ecb954a459b7"
      },
      "execution_count": null,
      "outputs": [
        {
          "output_type": "stream",
          "name": "stdout",
          "text": [
            "Tejasri\n",
            "7\n"
          ]
        }
      ]
    },
    {
      "cell_type": "markdown",
      "source": [
        "CONVERT UPPER CASE TO LOWER CASE AND LOWER TO UPPER CASE USING SWAPCASE"
      ],
      "metadata": {
        "id": "gpwPTHzSCoZs"
      }
    },
    {
      "cell_type": "code",
      "source": [
        "str=input()\n",
        "print(str.swapcase())"
      ],
      "metadata": {
        "colab": {
          "base_uri": "https://localhost:8080/"
        },
        "id": "5ujqbxH4CTyc",
        "outputId": "d00c8835-cf15-4e6d-a8b3-74790168857d"
      },
      "execution_count": null,
      "outputs": [
        {
          "output_type": "stream",
          "name": "stdout",
          "text": [
            "AWvhtHJNig\n",
            "awVHThjnIG\n"
          ]
        }
      ]
    },
    {
      "cell_type": "code",
      "source": [
        "str=input()\n",
        "str1=\" \"\n",
        "for i in str:\n",
        "  if i.isupper():\n",
        "    i=i.lower()\n",
        "    str1 += i\n",
        "  elif i.islower():\n",
        "    i=i.upper()\n",
        "    str1 += i\n",
        "print(str1)"
      ],
      "metadata": {
        "colab": {
          "base_uri": "https://localhost:8080/"
        },
        "id": "u5-jSgCWC-JC",
        "outputId": "bd109df4-d458-4e0f-a6c6-66daaff584a4"
      },
      "execution_count": null,
      "outputs": [
        {
          "output_type": "stream",
          "name": "stdout",
          "text": [
            "TeJaSrI\n",
            " tEjAsRi\n"
          ]
        }
      ]
    },
    {
      "cell_type": "code",
      "source": [
        "str=input()\n",
        "str=str[0].upper()+str[1:len(str)-1]+str[len(str)-1].upper()\n",
        "print(str)"
      ],
      "metadata": {
        "colab": {
          "base_uri": "https://localhost:8080/"
        },
        "id": "MwkLaqImD1-Q",
        "outputId": "2585ef5c-4c2c-4de0-f138-9758c28ae938"
      },
      "execution_count": null,
      "outputs": [
        {
          "output_type": "stream",
          "name": "stdout",
          "text": [
            "tejasri\n",
            "TejasrI\n"
          ]
        }
      ]
    },
    {
      "cell_type": "code",
      "source": [
        "str=input()\n",
        "words=str.split()\n",
        "cap_words=[]\n",
        "for word in words:\n",
        "  if len(word)>1:\n",
        "     cap_word=word[0].upper()+word[1:-1]+word[-1].upper()\n",
        "  else:\n",
        "      cap_word=word.upper()\n",
        "  cap_word.append(cap_word)\n",
        "print(' '.join(cap_words))"
      ],
      "metadata": {
        "colab": {
          "base_uri": "https://localhost:8080/",
          "height": 211
        },
        "id": "5_5qEfUHG91s",
        "outputId": "05e99924-2cd6-4bdd-ec72-b6d74527a7d5"
      },
      "execution_count": null,
      "outputs": [
        {
          "name": "stdout",
          "output_type": "stream",
          "text": [
            "crack a code\n"
          ]
        },
        {
          "output_type": "error",
          "ename": "AttributeError",
          "evalue": "'str' object has no attribute 'append'",
          "traceback": [
            "\u001b[0;31m---------------------------------------------------------------------------\u001b[0m",
            "\u001b[0;31mAttributeError\u001b[0m                            Traceback (most recent call last)",
            "\u001b[0;32m<ipython-input-46-09619faf37c3>\u001b[0m in \u001b[0;36m<cell line: 4>\u001b[0;34m()\u001b[0m\n\u001b[1;32m      7\u001b[0m   \u001b[0;32melse\u001b[0m\u001b[0;34m:\u001b[0m\u001b[0;34m\u001b[0m\u001b[0;34m\u001b[0m\u001b[0m\n\u001b[1;32m      8\u001b[0m       \u001b[0mcap_word\u001b[0m\u001b[0;34m=\u001b[0m\u001b[0mword\u001b[0m\u001b[0;34m.\u001b[0m\u001b[0mupper\u001b[0m\u001b[0;34m(\u001b[0m\u001b[0;34m)\u001b[0m\u001b[0;34m\u001b[0m\u001b[0;34m\u001b[0m\u001b[0m\n\u001b[0;32m----> 9\u001b[0;31m   \u001b[0mcap_word\u001b[0m\u001b[0;34m.\u001b[0m\u001b[0mappend\u001b[0m\u001b[0;34m(\u001b[0m\u001b[0mcap_word\u001b[0m\u001b[0;34m)\u001b[0m\u001b[0;34m\u001b[0m\u001b[0;34m\u001b[0m\u001b[0m\n\u001b[0m\u001b[1;32m     10\u001b[0m \u001b[0mprint\u001b[0m\u001b[0;34m(\u001b[0m\u001b[0;34m' '\u001b[0m\u001b[0;34m.\u001b[0m\u001b[0mjoin\u001b[0m\u001b[0;34m(\u001b[0m\u001b[0mcap_words\u001b[0m\u001b[0;34m)\u001b[0m\u001b[0;34m)\u001b[0m\u001b[0;34m\u001b[0m\u001b[0;34m\u001b[0m\u001b[0m\n",
            "\u001b[0;31mAttributeError\u001b[0m: 'str' object has no attribute 'append'"
          ]
        }
      ]
    },
    {
      "cell_type": "code",
      "source": [
        "input_str = input()\n",
        "words = input_str.split()\n",
        "cap_words = []\n",
        "\n",
        "for word in words:\n",
        "    if len(word) > 1:\n",
        "        cap_word = word[0].upper() + word[1:-1] + word[-1].upper()\n",
        "    else:\n",
        "        cap_word = word.upper()\n",
        "\n",
        "    cap_words.append(cap_word)\n",
        "\n",
        "print(' '.join(cap_words))\n"
      ],
      "metadata": {
        "colab": {
          "base_uri": "https://localhost:8080/"
        },
        "id": "PAAyZmZwKkD1",
        "outputId": "72c1838f-6098-49b6-abfd-89416c2b9c8a"
      },
      "execution_count": null,
      "outputs": [
        {
          "output_type": "stream",
          "name": "stdout",
          "text": [
            "crack a code\n",
            "CracK A CodE\n"
          ]
        }
      ]
    }
  ]
}